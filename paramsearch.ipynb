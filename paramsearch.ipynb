{
 "cells": [
  {
   "cell_type": "code",
   "execution_count": 1,
   "metadata": {},
   "outputs": [],
   "source": [
    "import pandas as pd\n",
    "from surprise import Dataset\n",
    "from surprise.model_selection import GridSearchCV\n",
    "from surprise import SVD\n",
    "from surprise import SVDpp\n",
    "from impt import ImpliciTrust\n",
    "from surprise import accuracy\n",
    "from collections import defaultdict"
   ]
  },
  {
   "cell_type": "code",
   "execution_count": 4,
   "metadata": {},
   "outputs": [
    {
     "name": "stdout",
     "output_type": "stream",
     "text": [
      "load_builtinTrue2.5\n",
      "load_from_fileTrue2.5\n"
     ]
    }
   ],
   "source": [
    "dataset_name ='ml-100k'\n",
    "# dataset_name ='jester'\n",
    "# dataset_name ='ml-1m'\n",
    "# dataset_name ='ml-latest-small'\n",
    "\n",
    "STACK_MEANTRUST_COL_WITH_PADDING = 5\n",
    "STACK_MEANTRUST_COL = 6\n",
    "ADD_TRUST = 3\n",
    "WEIGHT_BY_TRUST = 2\n",
    "compare = ADD_TRUST\n",
    "n_factors = 20\n",
    "\n",
    "data = Dataset.load_builtin(dataset_name, binary=True, pos_ne_divider=2.5)\n",
    "algo = SVD(n_factors= n_factors, random_state=100, biased=False, verbose=True)\n",
    "final_algo = SVDpp(n_factors= n_factors, random_state=100, verbose=True)"
   ]
  },
  {
   "cell_type": "code",
   "execution_count": 5,
   "metadata": {},
   "outputs": [
    {
     "name": "stdout",
     "output_type": "stream",
     "text": [
      "construct_trainsetTrue2.5\n",
      "construct_testsetTrue2.5\n",
      "construct_trainsetTrue2.5\n",
      "construct_testsetTrue2.5\n",
      "{'algo': <surprise.prediction_algorithms.matrix_factorization.SVD object at 0x7ff02232fa20>, 'final_algo': <surprise.prediction_algorithms.matrix_factorization.SVDpp object at 0x7ff02232fd68>, 'compare': 2, 'complementipop': True, 'n_ipop': True, 'n_upop': False}\n"
     ]
    }
   ],
   "source": [
    "param_grid = {'algo':[algo], 'final_algo':[final_algo], 'compare':[ADD_TRUST,WEIGHT_BY_TRUST],\n",
    "              'complementipop': [True,False],'n_ipop': [True,False],'n_upop': [True,False]}\n",
    "gs = GridSearchCV(ImpliciTrust, param_grid, measures=['mae'], cv=2, n_jobs=-1)\n",
    "gs.fit(data)\n",
    "print(gs.best_params['mae'])\n",
    "\n",
    "results_df = pd.DataFrame.from_dict(gs.cv_results)\n",
    "results_df.to_csv('parametsnocaperror_ml100k.csv', sep='\\t', encoding='utf-8')\n"
   ]
  },
  {
   "cell_type": "code",
   "execution_count": null,
   "metadata": {},
   "outputs": [],
   "source": []
  },
  {
   "cell_type": "code",
   "execution_count": null,
   "metadata": {},
   "outputs": [],
   "source": []
  }
 ],
 "metadata": {
  "kernelspec": {
   "display_name": "Python 3",
   "language": "python",
   "name": "python3"
  },
  "language_info": {
   "codemirror_mode": {
    "name": "ipython",
    "version": 3
   },
   "file_extension": ".py",
   "mimetype": "text/x-python",
   "name": "python",
   "nbconvert_exporter": "python",
   "pygments_lexer": "ipython3",
   "version": "3.7.3"
  }
 },
 "nbformat": 4,
 "nbformat_minor": 2
}
