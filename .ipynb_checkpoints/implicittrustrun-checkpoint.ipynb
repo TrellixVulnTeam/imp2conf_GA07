{
 "cells": [
  {
   "cell_type": "code",
   "execution_count": 3,
   "metadata": {
    "collapsed": true
   },
   "outputs": [],
   "source": [
    "#!pwd"
   ]
  },
  {
   "cell_type": "code",
   "execution_count": null,
   "metadata": {
    "collapsed": true
   },
   "outputs": [],
   "source": [
    "#!pip list"
   ]
  },
  {
   "cell_type": "code",
   "execution_count": 1,
   "metadata": {
    "collapsed": true
   },
   "outputs": [],
   "source": [
    "import pandas as pd\n",
    "import numpy as np\n",
    "from impt import ImpliciTrust\n",
    "from impt import graph_by_py\n",
    "import plotly.plotly as py\n",
    "from surprise import Dataset\n",
    "from surprise.model_selection import train_test_split\n",
    "\n",
    "from surprise import SVD\n",
    "from surprise import SVDpp\n",
    "from surprise import SVDppimp\n",
    "from surprise import accuracy"
   ]
  },
  {
   "cell_type": "code",
   "execution_count": 2,
   "metadata": {
    "collapsed": true
   },
   "outputs": [],
   "source": [
    "dataset_name ='ml-100k'\n",
    "# dataset_name ='jester'\n",
    "# dataset_name ='ml-1m'\n",
    "# dataset_name ='ml-latest-small'\n",
    "compare = 3\n",
    "n_factors = 20\n",
    "n_epochs = 20\n",
    "save = False\n",
    "binary=True\n",
    "data = Dataset.load_builtin(dataset_name)\n",
    "trainset, testset = train_test_split(data,random_state=100, test_size=.2)\n"
   ]
  },
  {
   "cell_type": "code",
   "execution_count": 3,
   "metadata": {},
   "outputs": [
    {
     "name": "stdout",
     "output_type": "stream",
     "text": [
      "start\n",
      "myalgo instantiated\n"
     ]
    }
   ],
   "source": [
    "algo_name = 'SVDpp_'\n",
    "algo = SVDpp(n_factors= n_factors, random_state=100)\n",
    "final_algo = SVDpp(n_factors= n_factors, random_state=100)\n",
    "print('start')\n",
    "myalgo = ImpliciTrust(trainset, testset, algo, final_algo, compare=compare, binary=binary, orginal_binary=True)\n",
    "print('myalgo instantiated')"
   ]
  },
  {
   "cell_type": "code",
   "execution_count": 4,
   "metadata": {},
   "outputs": [
    {
     "name": "stdout",
     "output_type": "stream",
     "text": [
      "fitting\n",
      "converting orginal rating to binary\n",
      "ir to binary done\n",
      "ur to binary done\n",
      "done all_ratings to binary\n",
      "copying\n",
      "new trust\n",
      "setting ur n ir\n",
      "done set_ur_new\n",
      "done set_ir_new\n",
      "final fit\n",
      "done fitting with modified trainset\n",
      "init complete\n"
     ]
    }
   ],
   "source": [
    "myalgo.fit(trainset)\n",
    "print('fit called')"
   ]
  },
  {
   "cell_type": "code",
   "execution_count": 5,
   "metadata": {
    "collapsed": true
   },
   "outputs": [],
   "source": [
    "predictions = myalgo.test(testset)"
   ]
  },
  {
   "cell_type": "code",
   "execution_count": 6,
   "metadata": {},
   "outputs": [
    {
     "name": "stdout",
     "output_type": "stream",
     "text": [
      "RMSE: 2.7721\n",
      "MAE:  2.5353\n"
     ]
    },
    {
     "data": {
      "text/plain": [
       "2.5352957411945543"
      ]
     },
     "execution_count": 6,
     "metadata": {},
     "output_type": "execute_result"
    }
   ],
   "source": [
    "accuracy.rmse(predictions)\n",
    "accuracy.mae(predictions)"
   ]
  },
  {
   "cell_type": "code",
   "execution_count": 11,
   "metadata": {
    "collapsed": true
   },
   "outputs": [],
   "source": [
    "df = pd.DataFrame(predictions, columns=['user_id', 'item_id', 'ratings_ui', 'estimated_Ratings', 'details'])"
   ]
  },
  {
   "cell_type": "code",
   "execution_count": 12,
   "metadata": {
    "collapsed": true
   },
   "outputs": [],
   "source": [
    "def get_Iu(uid):\n",
    "    try:\n",
    "        return myalgo.trainset.to_inner_uid(uid)\n",
    "    except ValueError:  # user was not part of the trainset\n",
    "        return 0\n",
    "    \n",
    "def get_Ui(iid):\n",
    "    try:\n",
    "        return myalgo.trainset.to_inner_iid(iid)\n",
    "    except ValueError:  # item was not part of the trainset\n",
    "        return 0 "
   ]
  },
  {
   "cell_type": "code",
   "execution_count": 13,
   "metadata": {
    "collapsed": true
   },
   "outputs": [],
   "source": [
    "df['Ii'] = df.user_id.apply(get_Iu)\n",
    "df['Ui'] = df.item_id.apply(get_Ui)\n",
    "df['error'] = abs(df.estimated_Ratings - df.ratings_ui)"
   ]
  },
  {
   "cell_type": "code",
   "execution_count": 14,
   "metadata": {},
   "outputs": [
    {
     "data": {
      "text/html": [
       "<div>\n",
       "<style scoped>\n",
       "    .dataframe tbody tr th:only-of-type {\n",
       "        vertical-align: middle;\n",
       "    }\n",
       "\n",
       "    .dataframe tbody tr th {\n",
       "        vertical-align: top;\n",
       "    }\n",
       "\n",
       "    .dataframe thead th {\n",
       "        text-align: right;\n",
       "    }\n",
       "</style>\n",
       "<table border=\"1\" class=\"dataframe\">\n",
       "  <thead>\n",
       "    <tr style=\"text-align: right;\">\n",
       "      <th></th>\n",
       "      <th>user_id</th>\n",
       "      <th>item_id</th>\n",
       "      <th>ratings_ui</th>\n",
       "      <th>estimated_Ratings</th>\n",
       "      <th>details</th>\n",
       "      <th>Ii</th>\n",
       "      <th>Ui</th>\n",
       "      <th>error</th>\n",
       "    </tr>\n",
       "  </thead>\n",
       "  <tbody>\n",
       "    <tr>\n",
       "      <th>0</th>\n",
       "      <td>543</td>\n",
       "      <td>249</td>\n",
       "      <td>2.0</td>\n",
       "      <td>3.058496</td>\n",
       "      <td>{'was_impossible': False}</td>\n",
       "      <td>270</td>\n",
       "      <td>186</td>\n",
       "      <td>1.058496</td>\n",
       "    </tr>\n",
       "    <tr>\n",
       "      <th>1</th>\n",
       "      <td>402</td>\n",
       "      <td>12</td>\n",
       "      <td>4.0</td>\n",
       "      <td>4.559647</td>\n",
       "      <td>{'was_impossible': False}</td>\n",
       "      <td>837</td>\n",
       "      <td>375</td>\n",
       "      <td>0.559647</td>\n",
       "    </tr>\n",
       "    <tr>\n",
       "      <th>2</th>\n",
       "      <td>49</td>\n",
       "      <td>52</td>\n",
       "      <td>2.0</td>\n",
       "      <td>3.178492</td>\n",
       "      <td>{'was_impossible': False}</td>\n",
       "      <td>232</td>\n",
       "      <td>77</td>\n",
       "      <td>1.178492</td>\n",
       "    </tr>\n",
       "    <tr>\n",
       "      <th>3</th>\n",
       "      <td>425</td>\n",
       "      <td>529</td>\n",
       "      <td>4.0</td>\n",
       "      <td>3.512940</td>\n",
       "      <td>{'was_impossible': False}</td>\n",
       "      <td>114</td>\n",
       "      <td>1020</td>\n",
       "      <td>0.487060</td>\n",
       "    </tr>\n",
       "    <tr>\n",
       "      <th>4</th>\n",
       "      <td>321</td>\n",
       "      <td>30</td>\n",
       "      <td>4.0</td>\n",
       "      <td>3.638757</td>\n",
       "      <td>{'was_impossible': False}</td>\n",
       "      <td>525</td>\n",
       "      <td>813</td>\n",
       "      <td>0.361243</td>\n",
       "    </tr>\n",
       "  </tbody>\n",
       "</table>\n",
       "</div>"
      ],
      "text/plain": [
       "  user_id item_id  ratings_ui  estimated_Ratings                    details  \\\n",
       "0     543     249         2.0           3.058496  {'was_impossible': False}   \n",
       "1     402      12         4.0           4.559647  {'was_impossible': False}   \n",
       "2      49      52         2.0           3.178492  {'was_impossible': False}   \n",
       "3     425     529         4.0           3.512940  {'was_impossible': False}   \n",
       "4     321      30         4.0           3.638757  {'was_impossible': False}   \n",
       "\n",
       "    Ii    Ui     error  \n",
       "0  270   186  1.058496  \n",
       "1  837   375  0.559647  \n",
       "2  232    77  1.178492  \n",
       "3  114  1020  0.487060  \n",
       "4  525   813  0.361243  "
      ]
     },
     "execution_count": 14,
     "metadata": {},
     "output_type": "execute_result"
    }
   ],
   "source": [
    "# myalgo.t_all_rating[(myalgo.t_all_rating.user_id == 2) & (myalgo.t_all_rating.item_id==2)].trust.item()\n",
    "df.head()\n"
   ]
  },
  {
   "cell_type": "code",
   "execution_count": 15,
   "metadata": {},
   "outputs": [
    {
     "data": {
      "text/html": [
       "<div>\n",
       "<style scoped>\n",
       "    .dataframe tbody tr th:only-of-type {\n",
       "        vertical-align: middle;\n",
       "    }\n",
       "\n",
       "    .dataframe tbody tr th {\n",
       "        vertical-align: top;\n",
       "    }\n",
       "\n",
       "    .dataframe thead th {\n",
       "        text-align: right;\n",
       "    }\n",
       "</style>\n",
       "<table border=\"1\" class=\"dataframe\">\n",
       "  <thead>\n",
       "    <tr style=\"text-align: right;\">\n",
       "      <th></th>\n",
       "      <th>user_id</th>\n",
       "      <th>item_id</th>\n",
       "      <th>ratings_ui</th>\n",
       "      <th>estimated_Ratings</th>\n",
       "      <th>details</th>\n",
       "      <th>Ii</th>\n",
       "      <th>Ui</th>\n",
       "      <th>error</th>\n",
       "      <th>trust</th>\n",
       "      <th>est_trust</th>\n",
       "      <th>u_count</th>\n",
       "      <th>i_count</th>\n",
       "      <th>pairtrust</th>\n",
       "      <th>ir_trust</th>\n",
       "    </tr>\n",
       "  </thead>\n",
       "  <tbody>\n",
       "    <tr>\n",
       "      <th>0</th>\n",
       "      <td>543</td>\n",
       "      <td>249</td>\n",
       "      <td>2.0</td>\n",
       "      <td>3.058496</td>\n",
       "      <td>{'was_impossible': False}</td>\n",
       "      <td>270</td>\n",
       "      <td>186</td>\n",
       "      <td>1.058496</td>\n",
       "      <td>0.0</td>\n",
       "      <td>0.032920</td>\n",
       "      <td>163</td>\n",
       "      <td>100</td>\n",
       "      <td>0.060016</td>\n",
       "      <td>0</td>\n",
       "    </tr>\n",
       "    <tr>\n",
       "      <th>1</th>\n",
       "      <td>402</td>\n",
       "      <td>12</td>\n",
       "      <td>4.0</td>\n",
       "      <td>4.559647</td>\n",
       "      <td>{'was_impossible': False}</td>\n",
       "      <td>837</td>\n",
       "      <td>375</td>\n",
       "      <td>0.559647</td>\n",
       "      <td>0.0</td>\n",
       "      <td>0.014065</td>\n",
       "      <td>55</td>\n",
       "      <td>205</td>\n",
       "      <td>0.121542</td>\n",
       "      <td>0</td>\n",
       "    </tr>\n",
       "    <tr>\n",
       "      <th>2</th>\n",
       "      <td>49</td>\n",
       "      <td>52</td>\n",
       "      <td>2.0</td>\n",
       "      <td>3.178492</td>\n",
       "      <td>{'was_impossible': False}</td>\n",
       "      <td>232</td>\n",
       "      <td>77</td>\n",
       "      <td>1.178492</td>\n",
       "      <td>0.0</td>\n",
       "      <td>0.001074</td>\n",
       "      <td>178</td>\n",
       "      <td>67</td>\n",
       "      <td>0.040232</td>\n",
       "      <td>0</td>\n",
       "    </tr>\n",
       "    <tr>\n",
       "      <th>3</th>\n",
       "      <td>425</td>\n",
       "      <td>529</td>\n",
       "      <td>4.0</td>\n",
       "      <td>3.512940</td>\n",
       "      <td>{'was_impossible': False}</td>\n",
       "      <td>114</td>\n",
       "      <td>1020</td>\n",
       "      <td>0.487060</td>\n",
       "      <td>0.0</td>\n",
       "      <td>0.018620</td>\n",
       "      <td>162</td>\n",
       "      <td>72</td>\n",
       "      <td>0.043210</td>\n",
       "      <td>0</td>\n",
       "    </tr>\n",
       "    <tr>\n",
       "      <th>4</th>\n",
       "      <td>321</td>\n",
       "      <td>30</td>\n",
       "      <td>4.0</td>\n",
       "      <td>3.638757</td>\n",
       "      <td>{'was_impossible': False}</td>\n",
       "      <td>525</td>\n",
       "      <td>813</td>\n",
       "      <td>0.361243</td>\n",
       "      <td>0.0</td>\n",
       "      <td>0.004943</td>\n",
       "      <td>103</td>\n",
       "      <td>25</td>\n",
       "      <td>0.014950</td>\n",
       "      <td>0</td>\n",
       "    </tr>\n",
       "  </tbody>\n",
       "</table>\n",
       "</div>"
      ],
      "text/plain": [
       "  user_id item_id  ratings_ui  estimated_Ratings                    details  \\\n",
       "0     543     249         2.0           3.058496  {'was_impossible': False}   \n",
       "1     402      12         4.0           4.559647  {'was_impossible': False}   \n",
       "2      49      52         2.0           3.178492  {'was_impossible': False}   \n",
       "3     425     529         4.0           3.512940  {'was_impossible': False}   \n",
       "4     321      30         4.0           3.638757  {'was_impossible': False}   \n",
       "\n",
       "    Ii    Ui     error  trust  est_trust  u_count  i_count  pairtrust  \\\n",
       "0  270   186  1.058496    0.0   0.032920      163      100   0.060016   \n",
       "1  837   375  0.559647    0.0   0.014065       55      205   0.121542   \n",
       "2  232    77  1.178492    0.0   0.001074      178       67   0.040232   \n",
       "3  114  1020  0.487060    0.0   0.018620      162       72   0.043210   \n",
       "4  525   813  0.361243    0.0   0.004943      103       25   0.014950   \n",
       "\n",
       "   ir_trust  \n",
       "0         0  \n",
       "1         0  \n",
       "2         0  \n",
       "3         0  \n",
       "4         0  "
      ]
     },
     "execution_count": 15,
     "metadata": {},
     "output_type": "execute_result"
    }
   ],
   "source": [
    "t = []\n",
    "est_t = []\n",
    "i_count_list = []\n",
    "u_count_list = []\n",
    "pairtrust_list = []\n",
    "ir_trust_list = []\n",
    "for index, row in df.iterrows():\n",
    "    val = myalgo.single_user_trust(row['user_id'], row['item_id'])\n",
    "    esttr = myalgo.single_user_item_est_trust(row['user_id'], row['item_id'])\n",
    "    # print(str(row['user_id'])+str(row['item_id']))\n",
    "    ucount, icount, pairtrust = myalgo.any_pair_trust(row['user_id'], row['item_id'])\n",
    "    ir_trust_list.append(myalgo.single_item_trust_ir_ur(row['user_id'], row['item_id']))\n",
    "    t.append(val)\n",
    "    i_count_list.append(icount)\n",
    "    u_count_list.append(ucount)\n",
    "    pairtrust_list.append(pairtrust)\n",
    "    est_t.append(esttr)\n",
    "df['trust'] = t\n",
    "df['est_trust'] = est_t\n",
    "df['u_count'] = u_count_list\n",
    "df['i_count'] = i_count_list\n",
    "df['pairtrust'] = pairtrust_list\n",
    "df['ir_trust'] = ir_trust_list\n",
    "df.head()"
   ]
  },
  {
   "cell_type": "code",
   "execution_count": null,
   "metadata": {
    "collapsed": true
   },
   "outputs": [],
   "source": []
  }
 ],
 "metadata": {
  "kernelspec": {
   "display_name": "Python 3",
   "language": "python",
   "name": "python3"
  },
  "language_info": {
   "codemirror_mode": {
    "name": "ipython",
    "version": 3
   },
   "file_extension": ".py",
   "mimetype": "text/x-python",
   "name": "python",
   "nbconvert_exporter": "python",
   "pygments_lexer": "ipython3",
   "version": "3.6.0b4"
  }
 },
 "nbformat": 4,
 "nbformat_minor": 2
}
