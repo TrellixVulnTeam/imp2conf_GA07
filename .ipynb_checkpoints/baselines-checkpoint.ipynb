{
 "cells": [
  {
   "cell_type": "code",
   "execution_count": null,
   "metadata": {
    "collapsed": true
   },
   "outputs": [],
   "source": [
    "import pandas as pd\n",
    "import numpy as np\n",
    "from impt import graph_by_py\n",
    "import plotly.plotly as py\n",
    "\n",
    "from surprise import Dataset\n",
    "from surprise.model_selection import train_test_split\n",
    "from surprise import NMF\n",
    "from surprise import SVD\n",
    "from surprise import SVDpp\n",
    "from surprise import SVDppimp\n",
    "from surprise import accuracy\n",
    "from collections import defaultdict\n",
    "\n",
    "%matplotlib inline\n",
    "import matplotlib\n",
    "import matplotlib.pyplot as plt\n",
    "import copy as cp\n",
    "\n",
    "from sklearn.metrics import roc_auc_score\n",
    "from sklearn.metrics import mean_absolute_error"
   ]
  },
  {
   "cell_type": "code",
   "execution_count": null,
   "metadata": {
    "collapsed": true
   },
   "outputs": [],
   "source": [
    "# dataset_name ='ml-100k'\n",
    "# dataset_name ='jester'\n",
    "# pos_ne_divider = -10\n",
    "# dataset_name ='ml-1m'\n",
    "# dataset_name ='ml-latest-small'\n",
    "dataset_name ='ml-20m'\n",
    "n_factors = 20\n",
    "n_epochs = 20\n",
    "save = False\n",
    "binary=True\n",
    "k = 5\n",
    "pos_ne_divider = 2.5\n",
    "threshold = 0.5\n",
    "data = Dataset.load_builtin(dataset_name, binary=True, pos_ne_divider=pos_ne_divider)\n",
    "trainset, testset = train_test_split(data,random_state=100, test_size=.2)\n",
    "\n",
    "algo = SVDpp(n_factors= n_factors, random_state=100)\n",
    "algo.fit(trainset)\n",
    "b_predictions = algo.test(testset)\n",
    "\n",
    "print('algoname: SVDpp')\n",
    "print('basline results')\n",
    "\n",
    "precisions, recalls = accuracy.precision_recall_at_k(b_predictions, k=k, threshold=threshold)\n",
    "rc = [r for _,r in recalls.items()]\n",
    "rc_mean = sum(rc)/len(rc)\n",
    "pr = [r for _,r in precisions.items()]\n",
    "pr_mean = sum(pr)/len(pr)\n",
    "print('dataset_name: '+dataset_name)\n",
    "print('recall: '+str(rc_mean))\n",
    "print('precision: '+str(pr_mean))\n",
    "print('k: '+str(k))\n",
    "print('threshold: '+str(threshold))\n",
    "print('pos_ne_divider: '+str(pos_ne_divider))\n",
    "print('n_factors: '+str(n_factors))\n",
    "print('n_epochs: '+str(n_epochs))\n",
    "# accuracy.rmse(b_predictions)\n",
    "accuracy.mae(b_predictions)\n",
    "# accuracy.fcp(b_predictions)"
   ]
  }
 ],
 "metadata": {
  "kernelspec": {
   "display_name": "Python 3",
   "language": "python",
   "name": "python3"
  },
  "language_info": {
   "codemirror_mode": {
    "name": "ipython",
    "version": 3
   },
   "file_extension": ".py",
   "mimetype": "text/x-python",
   "name": "python",
   "nbconvert_exporter": "python",
   "pygments_lexer": "ipython3",
   "version": "3.6.0b4"
  }
 },
 "nbformat": 4,
 "nbformat_minor": 2
}
